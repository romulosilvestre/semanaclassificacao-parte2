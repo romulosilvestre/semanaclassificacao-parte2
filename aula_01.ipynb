{
 "cells": [
  {
   "cell_type": "markdown",
   "metadata": {},
   "source": [
    "# Credit Scoring"
   ]
  },
  {
   "cell_type": "markdown",
   "metadata": {},
   "source": [
    "<ul>\n",
    "  <li style=\"list-style-type: none;\">\n",
    "    <span style=\"color: green; font-size: 1.5em;\">●</span> Selecione o Kernel no VS CODE\n",
    "  </li>\n",
    "  <li style=\"list-style-type: none;\">\n",
    "    <span style=\"color: blue; font-size: 1.5em;\">●</span> Selecione a Venv\n",
    "  </li>\n",
    "  <li style=\"list-style-type: none;\">\n",
    "    <span style=\"color: red; font-size: 1.5em;\">●</span> Crie uma célula de código e rode um \"Alô Regressão Logística\"\n",
    "  </li>\n",
    "</ul>"
   ]
  },
  {
   "cell_type": "code",
   "execution_count": 2,
   "metadata": {},
   "outputs": [
    {
     "name": "stdout",
     "output_type": "stream",
     "text": [
      "Alô Regressão Logistíca!\n"
     ]
    }
   ],
   "source": [
    "print(\"Alô Regressão Logistíca!\")"
   ]
  }
 ],
 "metadata": {
  "kernelspec": {
   "display_name": "venv",
   "language": "python",
   "name": "python3"
  },
  "language_info": {
   "codemirror_mode": {
    "name": "ipython",
    "version": 3
   },
   "file_extension": ".py",
   "mimetype": "text/x-python",
   "name": "python",
   "nbconvert_exporter": "python",
   "pygments_lexer": "ipython3",
   "version": "3.12.7"
  }
 },
 "nbformat": 4,
 "nbformat_minor": 2
}
